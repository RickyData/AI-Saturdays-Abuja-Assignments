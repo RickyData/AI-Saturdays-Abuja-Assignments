{
 "cells": [
  {
   "cell_type": "markdown",
   "metadata": {},
   "source": [
    "**1.\tmake a dictionary variable with two keys and their values:**\n",
    "\n",
    "•\tfullName, store your full name,  \n",
    "•\treasonForAttendingAISaturday, store what you want to be able to achieve at the end of the cohort\n"
   ]
  },
  {
   "cell_type": "code",
   "execution_count": null,
   "metadata": {},
   "outputs": [],
   "source": [
    "data = {'Full Name': 'Ricky Macharm',\n",
    "       'Reason for attending AI Saturdays' : 'kick ass in AI'}"
   ]
  },
  {
   "cell_type": "markdown",
   "metadata": {},
   "source": [
    "**2.\tmake a print statement saying \"My name is _ and at the end of this cohort I want to __\"**"
   ]
  },
  {
   "cell_type": "code",
   "execution_count": null,
   "metadata": {},
   "outputs": [],
   "source": [
    "# I will use Pandas so I need to import the module\n",
    "import pandas as pd\n",
    "# creating a dataframe out of the dictionary above\n",
    "df = pd.DataFrame(data, index=[1])\n",
    "# assigning the required answers to variable\n",
    "name = df.at[1, 'Full Name'] \n",
    "reason = df.at[1, 'Reason for attending AI Saturdays'] "
   ]
  },
  {
   "cell_type": "code",
   "execution_count": null,
   "metadata": {},
   "outputs": [],
   "source": [
    "# printing the desired output using the f-string method\n",
    "print(f\"My name is {name}, and at the end of this cohort I want to {reason}.\")"
   ]
  },
  {
   "cell_type": "markdown",
   "metadata": {},
   "source": [
    "**3.\tWrite a Python program to count the number of even and odd numbers from a series of numbers.** \n",
    "\n",
    "Print -   Numbers of even numbers: 'answer'\n",
    "              Numbers of odd numbers: 'answer' \n",
    "               e.g. Sample numbers: numbers = (1, 2, 3, 4, 5, 6, 7, 8, 9)\n",
    "                              Number of even numbers: 5\n",
    "                              Number of odd numbers: 4\n"
   ]
  },
  {
   "cell_type": "code",
   "execution_count": null,
   "metadata": {},
   "outputs": [],
   "source": [
    "# creating a list of the first 553 numbers\n",
    "list_num = []\n",
    "for num in range(1,553 + 1):\n",
    "    list_num.append(num)\n",
    "    \n"
   ]
  },
  {
   "cell_type": "code",
   "execution_count": null,
   "metadata": {},
   "outputs": [],
   "source": [
    "# creating a list of positive integers in 'list_num' created above\n",
    "even_int = [pos for pos in list_num if pos%2 == 0]\n",
    "#counting the contents of the list 'pos_int' and printing out\n",
    "even = len(even_int)\n",
    "print(f\"Number of even numbers: {even}\")"
   ]
  },
  {
   "cell_type": "code",
   "execution_count": null,
   "metadata": {},
   "outputs": [],
   "source": [
    "# creating a list of negetive integers in 'list_num' created above\n",
    "odd_int = [neg for neg in list_num if neg%2 != 0]\n",
    "#counting the contents of the list 'pos_int' and printing out\n",
    "odd = len(odd_int)\n",
    "print(f\"Number of odd numbers: {odd}\")"
   ]
  }
 ],
 "metadata": {
  "kernelspec": {
   "display_name": "Python 3",
   "language": "python",
   "name": "python3"
  },
  "language_info": {
   "codemirror_mode": {
    "name": "ipython",
    "version": 3
   },
   "file_extension": ".py",
   "mimetype": "text/x-python",
   "name": "python",
   "nbconvert_exporter": "python",
   "pygments_lexer": "ipython3",
   "version": "3.7.0"
  }
 },
 "nbformat": 4,
 "nbformat_minor": 2
}
